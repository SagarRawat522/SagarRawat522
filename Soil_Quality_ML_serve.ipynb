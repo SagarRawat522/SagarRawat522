{
  "cells": [
    {
      "cell_type": "code",
      "execution_count": null,
      "metadata": {
        "id": "3AAOH03rh-Mx"
      },
      "outputs": [
        {
          "ename": "",
          "evalue": "",
          "output_type": "error",
          "traceback": [
            "\u001b[1;31mRunning cells with 'Python 3.11.10' requires the ipykernel package.\n",
            "\u001b[1;31mRun the following command to install 'ipykernel' into the Python environment. \n",
            "\u001b[1;31mCommand: 'c:/msys64/ucrt64/bin/python.exe -m pip install ipykernel -U --user --force-reinstall'"
          ]
        }
      ],
      "source": [
        "import numpy\n",
        "import pickle\n",
        "import pandas as pd\n",
        "\n",
        "\n",
        "class Soil_quality_Classifier:\n",
        "    def __init__(self):\n",
        "        with open('/content/drive/MyDrive/AgriWise/ML/Soil Quality - Fertility/random_forest_pkl.pkl', 'rb') as file:\n",
        "          self.model = pickle.load(file)\n",
        "        \n",
        "\n",
        "    def preprocessing(self, input_data):\n",
        "        # JSON to pandas DataFrame\n",
        "        input_data = pd.DataFrame(input_data, index=[0])\n",
        "        return input_data\n",
        "\n",
        "    def predict(self, input_data):\n",
        "        return self.model.predict(input_data)\n",
        "        \n",
        "    def postprocessing(self, prediction):\n",
        "        categories = [\"Less Fertile\", \"Fertile\",  \"Highly Fertile\"]\n",
        "        index_max_predict = prediction\n",
        "        return categories[index_max_predict]\n",
        "        \n",
        "\n",
        "    def compute_prediction(self, input_data):\n",
        "        try:\n",
        "            input_data = self.preprocessing(input_data)\n",
        "            prediction = self.predict(input_data)[0]  # only one sample\n",
        "            prediction = self.postprocessing(prediction)\n",
        "        except Exception as e:\n",
        "            return {\"status\": \"Error\", \"message\": str(e)}\n",
        "\n",
        "      \n",
        "        return prediction"
      ]
    }
  ],
  "metadata": {
    "colab": {
      "provenance": []
    },
    "kernelspec": {
      "display_name": "Python 3",
      "name": "python3"
    },
    "language_info": {
      "name": "python",
      "version": "3.11.10"
    }
  },
  "nbformat": 4,
  "nbformat_minor": 0
}
